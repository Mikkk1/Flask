{
 "cells": [
  {
   "cell_type": "markdown",
   "metadata": {},
   "source": [
    "## Exercise: Python Read Write File\n",
    "1. [poem.txt](https://github.com/codebasics/py/blob/master/Basics/Exercise/13_read_write_files/poem.txt) contains famous poem \"Road not taken\" by poet Robert Frost. You have to read this file in your python program and find out words with maximum occurance.\n",
    "\n",
    "\n",
    "[Solution](https://github.com/codebasics/py/blob/master/Basics/Exercise/13_read_write_files/exercise_2_stocks.py)"
   ]
  },
  {
   "cell_type": "code",
   "execution_count": 7,
   "metadata": {},
   "outputs": [
    {
     "name": "stdout",
     "output_type": "stream",
     "text": [
      "The word with max count is 'the', with a occurance count of '8'.\n"
     ]
    }
   ],
   "source": [
    "dict = {}\n",
    "\n",
    "with open('poem.txt', 'r') as f:\n",
    "    poem = f.read()\n",
    "    tokens = poem.split(' ')\n",
    "    count_t = 0\n",
    "    for t in tokens:\n",
    "        if t in dict:\n",
    "           dict[t] += 1\n",
    "        else:\n",
    "            dict[t] = 1\n",
    "# print(dict)\n",
    "\n",
    "word_count = list(dict.values())\n",
    "max_val = max(word_count)\n",
    "\n",
    "for word, count in dict.items():\n",
    "    if count == max_val:\n",
    "        print(f\"The word with max count is '{word}', with a occurance count of '{dict[word]}'.\")\n",
    "    \n",
    "    "
   ]
  },
  {
   "cell_type": "markdown",
   "metadata": {},
   "source": [
    "2. [stocks.csv](https://github.com/codebasics/py/blob/master/Basics/Exercise/13_read_write_files/stocks.csv) contains stock price, earnings per share and book value. You are writing a stock market application that will process this file and create a new file\n",
    "with financial metrics such as pe ratio and price to book ratio. These are calculated as,\n",
    "```\n",
    "pe ratio = price / earnings per share\n",
    "price to book ratio = price / book value\n",
    "```\n",
    "\n",
    "\n",
    "Your input format (stocks.csv) is,\n",
    "\n",
    "|Company Name|Price|Earnings Per Share|Book Value|\n",
    "|-------|----------|-------|----------|\n",
    "|Reliance|1467|66|653|\n",
    "|Tata Steel|391|89|572|\n",
    "\n",
    "Output.csv should look like this,\n",
    "\n",
    "|Company Name|PE Ratio|PB Ratio|\n",
    "|-------|----------|-------|\n",
    "|Reliance|22.23|2.25|\n",
    "|Tata Steel|4.39|0.68|\n",
    "\n",
    "[Solution](https://github.com/codebasics/py/blob/master/Basics/Exercise/13_read_write_files/exercise_2_stocks.py)"
   ]
  },
  {
   "cell_type": "code",
   "execution_count": 17,
   "metadata": {},
   "outputs": [
    {
     "name": "stdout",
     "output_type": "stream",
     "text": [
      "Comapny Name, PE Ratio, PB Ratio\n",
      "Reliance,22,2\n",
      "Tata Steel,4,1\n",
      "Infosys,19,4\n",
      "Axis Bank,39,3\n",
      "Bajaj Finance,59,12\n",
      "\n"
     ]
    }
   ],
   "source": [
    "with open('stocks.csv', 'r') as f:\n",
    "    with open('output.csv', 'w') as out:\n",
    "        out.write('Comapny Name, PE Ratio, PB Ratio\\n')\n",
    "        next(f)\n",
    "        for line in f:\n",
    "            tokens = line.split(',')\n",
    "            #print(tokens)\n",
    "            stock = tokens[0]\n",
    "            price= float(tokens[1])\n",
    "            eps= float(tokens[2])\n",
    "            book_val = float(tokens[3])\n",
    "            pe_ratio = round(price / eps)\n",
    "            pb_ratio = round(price / book_val)\n",
    "            out.write(f'{stock},{pe_ratio},{pb_ratio}\\n')\n",
    "\n",
    "with open('output.csv', 'r') as file:\n",
    "    st = file.read()\n",
    "    print(st)    "
   ]
  },
  {
   "cell_type": "code",
   "execution_count": null,
   "metadata": {},
   "outputs": [],
   "source": []
  }
 ],
 "metadata": {
  "kernelspec": {
   "display_name": "Python 3",
   "language": "python",
   "name": "python3"
  },
  "language_info": {
   "codemirror_mode": {
    "name": "ipython",
    "version": 3
   },
   "file_extension": ".py",
   "mimetype": "text/x-python",
   "name": "python",
   "nbconvert_exporter": "python",
   "pygments_lexer": "ipython3",
   "version": "3.11.4"
  }
 },
 "nbformat": 4,
 "nbformat_minor": 2
}
